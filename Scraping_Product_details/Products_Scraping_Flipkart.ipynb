{
 "cells": [
  {
   "cell_type": "code",
   "execution_count": 1,
   "id": "a68eb403",
   "metadata": {},
   "outputs": [],
   "source": [
    "from selenium import webdriver\n",
    "from selenium.webdriver.common.action_chains import ActionChains\n",
    "from selenium.webdriver.common.by import By\n",
    "from selenium.webdriver.support.ui import WebDriverWait\n",
    "from selenium.webdriver.support import expected_conditions as EC\n",
    "from webdriver_manager.chrome import ChromeDriverManager\n",
    "from selenium.common.exceptions import StaleElementReferenceException"
   ]
  },
  {
   "cell_type": "code",
   "execution_count": 2,
   "id": "d03e8a7d",
   "metadata": {},
   "outputs": [
    {
     "name": "stderr",
     "output_type": "stream",
     "text": [
      "C:\\Users\\Ritesh\\AppData\\Local\\Temp\\ipykernel_9720\\893479022.py:1: DeprecationWarning: executable_path has been deprecated, please pass in a Service object\n",
      "  browser = webdriver.Chrome(ChromeDriverManager().install())\n"
     ]
    }
   ],
   "source": [
    "browser = webdriver.Chrome(ChromeDriverManager().install())"
   ]
  },
  {
   "cell_type": "code",
   "execution_count": 3,
   "id": "e9ba8fd3",
   "metadata": {},
   "outputs": [],
   "source": [
    "browser.get('https://www.flipkart.com/')\n",
    "browser.maximize_window()\n",
    "wait = WebDriverWait(browser, 120)"
   ]
  },
  {
   "cell_type": "code",
   "execution_count": 4,
   "id": "19ca5c19",
   "metadata": {},
   "outputs": [
    {
     "name": "stdout",
     "output_type": "stream",
     "text": [
      "The button was not found.\n"
     ]
    }
   ],
   "source": [
    "from selenium.common.exceptions import NoSuchElementException\n",
    "\n",
    "X_btn = None\n",
    "try:\n",
    "    X_btn = browser.find_element(By.XPATH, \"(//button[@class='_2KpZ6l _2doB4z'])\")\n",
    "except NoSuchElementException:\n",
    "    print(\"The button was not found.\")\n",
    "    \n",
    "if X_btn:\n",
    "    X_btn.click()"
   ]
  },
  {
   "cell_type": "code",
   "execution_count": 5,
   "id": "ab98e760",
   "metadata": {},
   "outputs": [],
   "source": [
    "search_text_lower = \"search for products, brands and more\"\n",
    "search_text_upper = \"Search for Products, Brands and More\"\n",
    "\n",
    "xpath_expression = f\"//input[contains(translate(@placeholder, 'ABCDEFGHIJKLMNOPQRSTUVWXYZ', 'abcdefghijklmnopqrstuvwxyz'), '{search_text_lower}') or contains(translate(@placeholder, 'abcdefghijklmnopqrstuvwxyz', 'ABCDEFGHIJKLMNOPQRSTUVWXYZ'), '{search_text_upper}')]\"\n",
    "\n",
    "input_search = browser.find_element(By.XPATH, xpath_expression)\n",
    "search_button = browser.find_element(By.XPATH, \"(//button[@type='submit'])\")"
   ]
  },
  {
   "cell_type": "code",
   "execution_count": 6,
   "id": "4fc69662",
   "metadata": {},
   "outputs": [],
   "source": [
    "input_search.send_keys('bags')\n",
    "search_button.click()"
   ]
  },
  {
   "cell_type": "code",
   "execution_count": 7,
   "id": "4d05fc47",
   "metadata": {},
   "outputs": [
    {
     "name": "stdout",
     "output_type": "stream",
     "text": [
      "Scraping page 1\n",
      "Scraping page 2\n",
      "Scraping page 3\n",
      "Scraping page 4\n",
      "Scraping page 5\n",
      "Scraping page 6\n",
      "Scraping page 7\n",
      "Scraping page 8\n",
      "Scraping page 9\n",
      "Scraping page 10\n",
      "Scraping page 11\n",
      "Scraping page 12\n",
      "Scraping page 13\n",
      "Scraping page 14\n",
      "Scraping page 15\n",
      "Scraping page 16\n",
      "Scraping page 17\n",
      "Scraping page 18\n",
      "Scraping page 19\n",
      "Scraping page 20\n"
     ]
    }
   ],
   "source": [
    "products = []\n",
    "for i in range(20):\n",
    "    print('Scraping page', i+1)\n",
    "    \n",
    "    names = browser.find_elements(By.XPATH, \"//a[@class='IRpwTa']\")\n",
    "    prices = browser.find_elements(By.XPATH, \"//div[@class='_30jeq3']\")\n",
    "    links = browser.find_elements(By.XPATH, \"//a[@class='IRpwTa']\")\n",
    "    \n",
    "    for n, p, l in zip(names, prices, links):\n",
    "        try:\n",
    "            name = n.text\n",
    "            price = p.text\n",
    "            price = price.replace('₹', '').replace(',','')\n",
    "            link = l.get_attribute('href')\n",
    "            \n",
    "            products.append({'Prod_name': name, 'Prod_price': price, 'Prod_link': link})\n",
    "        except StaleElementReferenceException:\n",
    "            continue\n",
    "            \n",
    "    next_button = wait.until(EC.element_to_be_clickable((By.XPATH, \"//span[contains(text(), 'Next')]\")))\n",
    "    action = ActionChains(browser)\n",
    "    action.move_to_element(next_button).click().perform()"
   ]
  },
  {
   "cell_type": "code",
   "execution_count": 8,
   "id": "c280203f",
   "metadata": {},
   "outputs": [
    {
     "name": "stdout",
     "output_type": "stream",
     "text": [
      "241\n",
      "[{'Prod_name': 'Medium 25 L Backpack DAYPACK Bags Backpack for daily us...', 'Prod_price': '279', 'Prod_link': 'https://www.flipkart.com/zcraft-daypack-bags-backpack-daily-use-library-office-outdoor-hiking-25-l/p/itme85ed9dd77fbf?pid=BKPGNGGZ3FCRSBAB&lid=LSTBKPGNGGZ3FCRSBABW1ARSV&marketplace=FLIPKART&q=bags&store=reh%2F4d7&srno=s_1_1&otracker=search&otracker1=search&fm=organic&iid=en_SgyDTHwpAdSqcltSp1vZRf612AM1OEfFOcNdmgCPdRZTQIc1vZJ38myrfG-41j-1aXtAEQQHc88KbOCHKKWeIQ%3D%3D&ppt=hp&ppn=homepage&ssid=ncuw9ar4xc0000001690536062170&qH=404e218d27fee49e'}, {'Prod_name': 'Medium 25 L Backpack SMALL 25 L DAYPACK BAGPACK FOR DAI...', 'Prod_price': '349', 'Prod_link': 'https://www.flipkart.com/plexy-small-25-l-daypack-bagpack-daily-routine-backpack/p/itm786efb9d2ee36?pid=BKPGHSBZEXWZGHW7&lid=LSTBKPGHSBZEXWZGHW7NC7OUL&marketplace=FLIPKART&q=bags&store=reh%2F4d7&srno=s_1_2&otracker=search&otracker1=search&fm=organic&iid=en_SgyDTHwpAdSqcltSp1vZRf612AM1OEfFOcNdmgCPdRYCe280Vh90cuEsbI7D8tn4hI-rFdWoZxE77ghuRN0ORA%3D%3D&ppt=hp&ppn=homepage&ssid=ncuw9ar4xc0000001690536062170&qH=404e218d27fee49e'}, {'Prod_name': 'Medium 26 L Backpack Jacquard Camo', 'Prod_price': '895', 'Prod_link': 'https://www.flipkart.com/gear-jacquard-camo-26-l-backpack/p/itm5faf9e50cf7e2?pid=BKPFVHFVCH6ADMJM&lid=LSTBKPFVHFVCH6ADMJMZROVBP&marketplace=FLIPKART&q=bags&store=reh%2F4d7&srno=s_1_3&otracker=search&otracker1=search&fm=organic&iid=fa00b72b-e2ad-4cd5-81d6-07c32294e6c8.BKPFVHFVCH6ADMJM.SEARCH&ppt=hp&ppn=homepage&ssid=ncuw9ar4xc0000001690536062170&qH=404e218d27fee49e'}, {'Prod_name': 'Medium 28 L Backpack Polo', 'Prod_price': '778', 'Prod_link': 'https://www.flipkart.com/pazzo-polo-28-l-backpack/p/itmf3um3vfkcvhaz?pid=BKPEZDYYWSY8GSRE&lid=LSTBKPEZDYYWSY8GSREEUXQLR&marketplace=FLIPKART&q=bags&store=reh%2F4d7&srno=s_1_4&otracker=search&otracker1=search&fm=organic&iid=fa00b72b-e2ad-4cd5-81d6-07c32294e6c8.BKPEZDYYWSY8GSRE.SEARCH&ppt=hp&ppn=homepage&ssid=ncuw9ar4xc0000001690536062170&qH=404e218d27fee49e'}, {'Prod_name': 'Large 37 L Backpack Heritage - 3 Compartment Casual Tra...', 'Prod_price': '737', 'Prod_link': 'https://www.flipkart.com/lunar-heritage-3-compartment-casual-travel-bagpack-college-school-bag-37-l-backpack/p/itm7af5ef5887322?pid=BKPFTBU7D8ZKGGUY&lid=LSTBKPFTBU7D8ZKGGUYAC6CXC&marketplace=FLIPKART&q=bags&store=reh%2F4d7&srno=s_1_5&otracker=search&otracker1=search&fm=organic&iid=fa00b72b-e2ad-4cd5-81d6-07c32294e6c8.BKPFTBU7D8ZKGGUY.SEARCH&ppt=hp&ppn=homepage&ssid=ncuw9ar4xc0000001690536062170&qH=404e218d27fee49e'}]\n"
     ]
    }
   ],
   "source": [
    "print(len(products))\n",
    "print(products[:5])"
   ]
  },
  {
   "cell_type": "code",
   "execution_count": 9,
   "id": "445a174e",
   "metadata": {},
   "outputs": [],
   "source": [
    "def scrape_rates_and_reviews(link):\n",
    "    browser.execute_script(\"window.open('');\")\n",
    "    browser.switch_to.window(browser.window_handles[1])\n",
    "    browser.get(link)\n",
    "\n",
    "    try:\n",
    "        rate_element = wait.until(EC.presence_of_element_located((By.XPATH, \"//div[@class='_3LWZlK _3uSWvT']\")))\n",
    "        review_element = wait.until(EC.presence_of_element_located((By.XPATH, \"//span[@class='_2_R_DZ']//span\")))\n",
    "        rate = rate_element.text\n",
    "        review = review_element.text\n",
    "        review = review.split()[3]\n",
    "        review = review.replace(',', '')\n",
    "    except:\n",
    "        rate = 0\n",
    "        review = 0\n",
    "\n",
    "    browser.close()\n",
    "    browser.switch_to.window(browser.window_handles[0])\n",
    "\n",
    "    return rate, review"
   ]
  },
  {
   "cell_type": "code",
   "execution_count": 10,
   "id": "f1674b9d",
   "metadata": {},
   "outputs": [],
   "source": [
    "for product in products:\n",
    "    product_link = product['Prod_link']\n",
    "    product_rate, product_review = scrape_rates_and_reviews(product_link)\n",
    "    \n",
    "    product['Prod_rate'] = product_rate\n",
    "    product['Prod_review'] = product_review"
   ]
  },
  {
   "cell_type": "code",
   "execution_count": 11,
   "id": "440ce1a4",
   "metadata": {},
   "outputs": [
    {
     "data": {
      "text/plain": [
       "241"
      ]
     },
     "execution_count": 11,
     "metadata": {},
     "output_type": "execute_result"
    }
   ],
   "source": [
    "len(products)"
   ]
  },
  {
   "cell_type": "code",
   "execution_count": 12,
   "id": "8c5ddfb0",
   "metadata": {},
   "outputs": [
    {
     "name": "stdout",
     "output_type": "stream",
     "text": [
      "Data stored in Flipkart_data.csv successfully.\n"
     ]
    }
   ],
   "source": [
    "import csv\n",
    "filename = 'Flipkart_data.csv'\n",
    "with open(filename, 'w', newline='', encoding='utf-8') as csvfile:\n",
    "    fieldnames = ['Prod_name', 'Prod_price', 'Prod_link', 'Prod_rate', 'Prod_review', ]\n",
    "    writer = csv.DictWriter(csvfile, fieldnames=fieldnames)\n",
    "    writer.writeheader()\n",
    "    for row in products:\n",
    "        writer.writerow(row)\n",
    "\n",
    "print(f\"Data stored in {filename} successfully.\")"
   ]
  },
  {
   "cell_type": "code",
   "execution_count": null,
   "id": "591c665c",
   "metadata": {},
   "outputs": [],
   "source": []
  }
 ],
 "metadata": {
  "kernelspec": {
   "display_name": "Python 3 (ipykernel)",
   "language": "python",
   "name": "python3"
  },
  "language_info": {
   "codemirror_mode": {
    "name": "ipython",
    "version": 3
   },
   "file_extension": ".py",
   "mimetype": "text/x-python",
   "name": "python",
   "nbconvert_exporter": "python",
   "pygments_lexer": "ipython3",
   "version": "3.10.7"
  }
 },
 "nbformat": 4,
 "nbformat_minor": 5
}
